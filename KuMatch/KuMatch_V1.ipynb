{
  "nbformat": 4,
  "nbformat_minor": 0,
  "metadata": {
    "accelerator": "GPU",
    "colab": {
      "name": "dish_matching_script.ipynb",
      "provenance": [],
      "collapsed_sections": [
        "UUdnWMnmGnfK",
        "t2rVYjrAh0Av",
        "HtvcDYfMh4JQ",
        "Z1tT7AmieOz2"
      ],
      "mount_file_id": "1JMfJbRcedBnTb0DQoyKQMYUMACRkVv9W",
      "authorship_tag": "ABX9TyNPJUz1vad9bcFFg6PTrRC5",
      "include_colab_link": true
    },
    "kernelspec": {
      "display_name": "Python 3",
      "name": "python3"
    },
    "language_info": {
      "name": "python"
    },
    "widgets": {
      "application/vnd.jupyter.widget-state+json": {
        "2a8b4bd68dad4a6cb1b998f1df129f48": {
          "model_module": "@jupyter-widgets/controls",
          "model_name": "HBoxModel",
          "model_module_version": "1.5.0",
          "state": {
            "_view_name": "HBoxView",
            "_dom_classes": [],
            "_model_name": "HBoxModel",
            "_view_module": "@jupyter-widgets/controls",
            "_model_module_version": "1.5.0",
            "_view_count": null,
            "_view_module_version": "1.5.0",
            "box_style": "",
            "layout": "IPY_MODEL_7133d7931a2d4eb98dc1b033eed17690",
            "_model_module": "@jupyter-widgets/controls",
            "children": [
              "IPY_MODEL_1fc6f255d6c04c5b83cc135e317ca7ac",
              "IPY_MODEL_08ec6d822f24463daa5d205532a59e5f",
              "IPY_MODEL_31d1f15a589c4222872a93ab16c4bf60"
            ]
          }
        },
        "7133d7931a2d4eb98dc1b033eed17690": {
          "model_module": "@jupyter-widgets/base",
          "model_name": "LayoutModel",
          "model_module_version": "1.2.0",
          "state": {
            "_view_name": "LayoutView",
            "grid_template_rows": null,
            "right": null,
            "justify_content": null,
            "_view_module": "@jupyter-widgets/base",
            "overflow": null,
            "_model_module_version": "1.2.0",
            "_view_count": null,
            "flex_flow": null,
            "width": null,
            "min_width": null,
            "border": null,
            "align_items": null,
            "bottom": null,
            "_model_module": "@jupyter-widgets/base",
            "top": null,
            "grid_column": null,
            "overflow_y": null,
            "overflow_x": null,
            "grid_auto_flow": null,
            "grid_area": null,
            "grid_template_columns": null,
            "flex": null,
            "_model_name": "LayoutModel",
            "justify_items": null,
            "grid_row": null,
            "max_height": null,
            "align_content": null,
            "visibility": null,
            "align_self": null,
            "height": null,
            "min_height": null,
            "padding": null,
            "grid_auto_rows": null,
            "grid_gap": null,
            "max_width": null,
            "order": null,
            "_view_module_version": "1.2.0",
            "grid_template_areas": null,
            "object_position": null,
            "object_fit": null,
            "grid_auto_columns": null,
            "margin": null,
            "display": null,
            "left": null
          }
        },
        "1fc6f255d6c04c5b83cc135e317ca7ac": {
          "model_module": "@jupyter-widgets/controls",
          "model_name": "HTMLModel",
          "model_module_version": "1.5.0",
          "state": {
            "_view_name": "HTMLView",
            "style": "IPY_MODEL_6e85fc97c021459f9b1011dc3f0088ec",
            "_dom_classes": [],
            "description": "",
            "_model_name": "HTMLModel",
            "placeholder": "​",
            "_view_module": "@jupyter-widgets/controls",
            "_model_module_version": "1.5.0",
            "value": "Downloading https://raw.githubusercontent.com/stanfordnlp/stanza-resources/main/resources_1.3.0.json: ",
            "_view_count": null,
            "_view_module_version": "1.5.0",
            "description_tooltip": null,
            "_model_module": "@jupyter-widgets/controls",
            "layout": "IPY_MODEL_9e700b4567824913ab443cd75dc15042"
          }
        },
        "08ec6d822f24463daa5d205532a59e5f": {
          "model_module": "@jupyter-widgets/controls",
          "model_name": "FloatProgressModel",
          "model_module_version": "1.5.0",
          "state": {
            "_view_name": "ProgressView",
            "style": "IPY_MODEL_b7ddf13b723d4819b072a963a18acc8f",
            "_dom_classes": [],
            "description": "",
            "_model_name": "FloatProgressModel",
            "bar_style": "success",
            "max": 24459,
            "_view_module": "@jupyter-widgets/controls",
            "_model_module_version": "1.5.0",
            "value": 24459,
            "_view_count": null,
            "_view_module_version": "1.5.0",
            "orientation": "horizontal",
            "min": 0,
            "description_tooltip": null,
            "_model_module": "@jupyter-widgets/controls",
            "layout": "IPY_MODEL_a4eed263b24648e0bbd31740bb06c817"
          }
        },
        "31d1f15a589c4222872a93ab16c4bf60": {
          "model_module": "@jupyter-widgets/controls",
          "model_name": "HTMLModel",
          "model_module_version": "1.5.0",
          "state": {
            "_view_name": "HTMLView",
            "style": "IPY_MODEL_c991637040914bf78873a7c22e7e47d9",
            "_dom_classes": [],
            "description": "",
            "_model_name": "HTMLModel",
            "placeholder": "​",
            "_view_module": "@jupyter-widgets/controls",
            "_model_module_version": "1.5.0",
            "value": " 142k/? [00:00&lt;00:00, 3.66MB/s]",
            "_view_count": null,
            "_view_module_version": "1.5.0",
            "description_tooltip": null,
            "_model_module": "@jupyter-widgets/controls",
            "layout": "IPY_MODEL_b60a3fef70bf469d98ee962972f31def"
          }
        },
        "6e85fc97c021459f9b1011dc3f0088ec": {
          "model_module": "@jupyter-widgets/controls",
          "model_name": "DescriptionStyleModel",
          "model_module_version": "1.5.0",
          "state": {
            "_view_name": "StyleView",
            "_model_name": "DescriptionStyleModel",
            "description_width": "",
            "_view_module": "@jupyter-widgets/base",
            "_model_module_version": "1.5.0",
            "_view_count": null,
            "_view_module_version": "1.2.0",
            "_model_module": "@jupyter-widgets/controls"
          }
        },
        "9e700b4567824913ab443cd75dc15042": {
          "model_module": "@jupyter-widgets/base",
          "model_name": "LayoutModel",
          "model_module_version": "1.2.0",
          "state": {
            "_view_name": "LayoutView",
            "grid_template_rows": null,
            "right": null,
            "justify_content": null,
            "_view_module": "@jupyter-widgets/base",
            "overflow": null,
            "_model_module_version": "1.2.0",
            "_view_count": null,
            "flex_flow": null,
            "width": null,
            "min_width": null,
            "border": null,
            "align_items": null,
            "bottom": null,
            "_model_module": "@jupyter-widgets/base",
            "top": null,
            "grid_column": null,
            "overflow_y": null,
            "overflow_x": null,
            "grid_auto_flow": null,
            "grid_area": null,
            "grid_template_columns": null,
            "flex": null,
            "_model_name": "LayoutModel",
            "justify_items": null,
            "grid_row": null,
            "max_height": null,
            "align_content": null,
            "visibility": null,
            "align_self": null,
            "height": null,
            "min_height": null,
            "padding": null,
            "grid_auto_rows": null,
            "grid_gap": null,
            "max_width": null,
            "order": null,
            "_view_module_version": "1.2.0",
            "grid_template_areas": null,
            "object_position": null,
            "object_fit": null,
            "grid_auto_columns": null,
            "margin": null,
            "display": null,
            "left": null
          }
        },
        "b7ddf13b723d4819b072a963a18acc8f": {
          "model_module": "@jupyter-widgets/controls",
          "model_name": "ProgressStyleModel",
          "model_module_version": "1.5.0",
          "state": {
            "_view_name": "StyleView",
            "_model_name": "ProgressStyleModel",
            "description_width": "",
            "_view_module": "@jupyter-widgets/base",
            "_model_module_version": "1.5.0",
            "_view_count": null,
            "_view_module_version": "1.2.0",
            "bar_color": null,
            "_model_module": "@jupyter-widgets/controls"
          }
        },
        "a4eed263b24648e0bbd31740bb06c817": {
          "model_module": "@jupyter-widgets/base",
          "model_name": "LayoutModel",
          "model_module_version": "1.2.0",
          "state": {
            "_view_name": "LayoutView",
            "grid_template_rows": null,
            "right": null,
            "justify_content": null,
            "_view_module": "@jupyter-widgets/base",
            "overflow": null,
            "_model_module_version": "1.2.0",
            "_view_count": null,
            "flex_flow": null,
            "width": null,
            "min_width": null,
            "border": null,
            "align_items": null,
            "bottom": null,
            "_model_module": "@jupyter-widgets/base",
            "top": null,
            "grid_column": null,
            "overflow_y": null,
            "overflow_x": null,
            "grid_auto_flow": null,
            "grid_area": null,
            "grid_template_columns": null,
            "flex": null,
            "_model_name": "LayoutModel",
            "justify_items": null,
            "grid_row": null,
            "max_height": null,
            "align_content": null,
            "visibility": null,
            "align_self": null,
            "height": null,
            "min_height": null,
            "padding": null,
            "grid_auto_rows": null,
            "grid_gap": null,
            "max_width": null,
            "order": null,
            "_view_module_version": "1.2.0",
            "grid_template_areas": null,
            "object_position": null,
            "object_fit": null,
            "grid_auto_columns": null,
            "margin": null,
            "display": null,
            "left": null
          }
        },
        "c991637040914bf78873a7c22e7e47d9": {
          "model_module": "@jupyter-widgets/controls",
          "model_name": "DescriptionStyleModel",
          "model_module_version": "1.5.0",
          "state": {
            "_view_name": "StyleView",
            "_model_name": "DescriptionStyleModel",
            "description_width": "",
            "_view_module": "@jupyter-widgets/base",
            "_model_module_version": "1.5.0",
            "_view_count": null,
            "_view_module_version": "1.2.0",
            "_model_module": "@jupyter-widgets/controls"
          }
        },
        "b60a3fef70bf469d98ee962972f31def": {
          "model_module": "@jupyter-widgets/base",
          "model_name": "LayoutModel",
          "model_module_version": "1.2.0",
          "state": {
            "_view_name": "LayoutView",
            "grid_template_rows": null,
            "right": null,
            "justify_content": null,
            "_view_module": "@jupyter-widgets/base",
            "overflow": null,
            "_model_module_version": "1.2.0",
            "_view_count": null,
            "flex_flow": null,
            "width": null,
            "min_width": null,
            "border": null,
            "align_items": null,
            "bottom": null,
            "_model_module": "@jupyter-widgets/base",
            "top": null,
            "grid_column": null,
            "overflow_y": null,
            "overflow_x": null,
            "grid_auto_flow": null,
            "grid_area": null,
            "grid_template_columns": null,
            "flex": null,
            "_model_name": "LayoutModel",
            "justify_items": null,
            "grid_row": null,
            "max_height": null,
            "align_content": null,
            "visibility": null,
            "align_self": null,
            "height": null,
            "min_height": null,
            "padding": null,
            "grid_auto_rows": null,
            "grid_gap": null,
            "max_width": null,
            "order": null,
            "_view_module_version": "1.2.0",
            "grid_template_areas": null,
            "object_position": null,
            "object_fit": null,
            "grid_auto_columns": null,
            "margin": null,
            "display": null,
            "left": null
          }
        },
        "e93697e2be2946b18ac1bc2c8c1f3a96": {
          "model_module": "@jupyter-widgets/controls",
          "model_name": "HBoxModel",
          "model_module_version": "1.5.0",
          "state": {
            "_view_name": "HBoxView",
            "_dom_classes": [],
            "_model_name": "HBoxModel",
            "_view_module": "@jupyter-widgets/controls",
            "_model_module_version": "1.5.0",
            "_view_count": null,
            "_view_module_version": "1.5.0",
            "box_style": "",
            "layout": "IPY_MODEL_c6a48c8f327d49a48b87e7720e6310c9",
            "_model_module": "@jupyter-widgets/controls",
            "children": [
              "IPY_MODEL_3cb091d26e29435a8326b8d65b6e1563",
              "IPY_MODEL_359dcb23d6854c11a7ae98c1604323f9",
              "IPY_MODEL_aa7a469c169b4ca5a70782e5a5339018"
            ]
          }
        },
        "c6a48c8f327d49a48b87e7720e6310c9": {
          "model_module": "@jupyter-widgets/base",
          "model_name": "LayoutModel",
          "model_module_version": "1.2.0",
          "state": {
            "_view_name": "LayoutView",
            "grid_template_rows": null,
            "right": null,
            "justify_content": null,
            "_view_module": "@jupyter-widgets/base",
            "overflow": null,
            "_model_module_version": "1.2.0",
            "_view_count": null,
            "flex_flow": null,
            "width": null,
            "min_width": null,
            "border": null,
            "align_items": null,
            "bottom": null,
            "_model_module": "@jupyter-widgets/base",
            "top": null,
            "grid_column": null,
            "overflow_y": null,
            "overflow_x": null,
            "grid_auto_flow": null,
            "grid_area": null,
            "grid_template_columns": null,
            "flex": null,
            "_model_name": "LayoutModel",
            "justify_items": null,
            "grid_row": null,
            "max_height": null,
            "align_content": null,
            "visibility": null,
            "align_self": null,
            "height": null,
            "min_height": null,
            "padding": null,
            "grid_auto_rows": null,
            "grid_gap": null,
            "max_width": null,
            "order": null,
            "_view_module_version": "1.2.0",
            "grid_template_areas": null,
            "object_position": null,
            "object_fit": null,
            "grid_auto_columns": null,
            "margin": null,
            "display": null,
            "left": null
          }
        },
        "3cb091d26e29435a8326b8d65b6e1563": {
          "model_module": "@jupyter-widgets/controls",
          "model_name": "HTMLModel",
          "model_module_version": "1.5.0",
          "state": {
            "_view_name": "HTMLView",
            "style": "IPY_MODEL_c47ad6e3b1554e8c902ea92e2c188703",
            "_dom_classes": [],
            "description": "",
            "_model_name": "HTMLModel",
            "placeholder": "​",
            "_view_module": "@jupyter-widgets/controls",
            "_model_module_version": "1.5.0",
            "value": "Downloading https://huggingface.co/stanfordnlp/stanza-es/resolve/v1.3.0/models/default.zip: 100%",
            "_view_count": null,
            "_view_module_version": "1.5.0",
            "description_tooltip": null,
            "_model_module": "@jupyter-widgets/controls",
            "layout": "IPY_MODEL_c63075d7d4a3404ba3402babd5c2ee41"
          }
        },
        "359dcb23d6854c11a7ae98c1604323f9": {
          "model_module": "@jupyter-widgets/controls",
          "model_name": "FloatProgressModel",
          "model_module_version": "1.5.0",
          "state": {
            "_view_name": "ProgressView",
            "style": "IPY_MODEL_bb13cd92ea4c4d68ba248e2d0039a1a4",
            "_dom_classes": [],
            "description": "",
            "_model_name": "FloatProgressModel",
            "bar_style": "success",
            "max": 565554574,
            "_view_module": "@jupyter-widgets/controls",
            "_model_module_version": "1.5.0",
            "value": 565554574,
            "_view_count": null,
            "_view_module_version": "1.5.0",
            "orientation": "horizontal",
            "min": 0,
            "description_tooltip": null,
            "_model_module": "@jupyter-widgets/controls",
            "layout": "IPY_MODEL_d0e98bcb862b401f94a4bbdc0eee8ff0"
          }
        },
        "aa7a469c169b4ca5a70782e5a5339018": {
          "model_module": "@jupyter-widgets/controls",
          "model_name": "HTMLModel",
          "model_module_version": "1.5.0",
          "state": {
            "_view_name": "HTMLView",
            "style": "IPY_MODEL_58c97da5e54e4ebe9615deca0951caaf",
            "_dom_classes": [],
            "description": "",
            "_model_name": "HTMLModel",
            "placeholder": "​",
            "_view_module": "@jupyter-widgets/controls",
            "_model_module_version": "1.5.0",
            "value": " 566M/566M [00:10&lt;00:00, 32.5MB/s]",
            "_view_count": null,
            "_view_module_version": "1.5.0",
            "description_tooltip": null,
            "_model_module": "@jupyter-widgets/controls",
            "layout": "IPY_MODEL_4ba89ad23f6e47f6ab63002571bf8cda"
          }
        },
        "c47ad6e3b1554e8c902ea92e2c188703": {
          "model_module": "@jupyter-widgets/controls",
          "model_name": "DescriptionStyleModel",
          "model_module_version": "1.5.0",
          "state": {
            "_view_name": "StyleView",
            "_model_name": "DescriptionStyleModel",
            "description_width": "",
            "_view_module": "@jupyter-widgets/base",
            "_model_module_version": "1.5.0",
            "_view_count": null,
            "_view_module_version": "1.2.0",
            "_model_module": "@jupyter-widgets/controls"
          }
        },
        "c63075d7d4a3404ba3402babd5c2ee41": {
          "model_module": "@jupyter-widgets/base",
          "model_name": "LayoutModel",
          "model_module_version": "1.2.0",
          "state": {
            "_view_name": "LayoutView",
            "grid_template_rows": null,
            "right": null,
            "justify_content": null,
            "_view_module": "@jupyter-widgets/base",
            "overflow": null,
            "_model_module_version": "1.2.0",
            "_view_count": null,
            "flex_flow": null,
            "width": null,
            "min_width": null,
            "border": null,
            "align_items": null,
            "bottom": null,
            "_model_module": "@jupyter-widgets/base",
            "top": null,
            "grid_column": null,
            "overflow_y": null,
            "overflow_x": null,
            "grid_auto_flow": null,
            "grid_area": null,
            "grid_template_columns": null,
            "flex": null,
            "_model_name": "LayoutModel",
            "justify_items": null,
            "grid_row": null,
            "max_height": null,
            "align_content": null,
            "visibility": null,
            "align_self": null,
            "height": null,
            "min_height": null,
            "padding": null,
            "grid_auto_rows": null,
            "grid_gap": null,
            "max_width": null,
            "order": null,
            "_view_module_version": "1.2.0",
            "grid_template_areas": null,
            "object_position": null,
            "object_fit": null,
            "grid_auto_columns": null,
            "margin": null,
            "display": null,
            "left": null
          }
        },
        "bb13cd92ea4c4d68ba248e2d0039a1a4": {
          "model_module": "@jupyter-widgets/controls",
          "model_name": "ProgressStyleModel",
          "model_module_version": "1.5.0",
          "state": {
            "_view_name": "StyleView",
            "_model_name": "ProgressStyleModel",
            "description_width": "",
            "_view_module": "@jupyter-widgets/base",
            "_model_module_version": "1.5.0",
            "_view_count": null,
            "_view_module_version": "1.2.0",
            "bar_color": null,
            "_model_module": "@jupyter-widgets/controls"
          }
        },
        "d0e98bcb862b401f94a4bbdc0eee8ff0": {
          "model_module": "@jupyter-widgets/base",
          "model_name": "LayoutModel",
          "model_module_version": "1.2.0",
          "state": {
            "_view_name": "LayoutView",
            "grid_template_rows": null,
            "right": null,
            "justify_content": null,
            "_view_module": "@jupyter-widgets/base",
            "overflow": null,
            "_model_module_version": "1.2.0",
            "_view_count": null,
            "flex_flow": null,
            "width": null,
            "min_width": null,
            "border": null,
            "align_items": null,
            "bottom": null,
            "_model_module": "@jupyter-widgets/base",
            "top": null,
            "grid_column": null,
            "overflow_y": null,
            "overflow_x": null,
            "grid_auto_flow": null,
            "grid_area": null,
            "grid_template_columns": null,
            "flex": null,
            "_model_name": "LayoutModel",
            "justify_items": null,
            "grid_row": null,
            "max_height": null,
            "align_content": null,
            "visibility": null,
            "align_self": null,
            "height": null,
            "min_height": null,
            "padding": null,
            "grid_auto_rows": null,
            "grid_gap": null,
            "max_width": null,
            "order": null,
            "_view_module_version": "1.2.0",
            "grid_template_areas": null,
            "object_position": null,
            "object_fit": null,
            "grid_auto_columns": null,
            "margin": null,
            "display": null,
            "left": null
          }
        },
        "58c97da5e54e4ebe9615deca0951caaf": {
          "model_module": "@jupyter-widgets/controls",
          "model_name": "DescriptionStyleModel",
          "model_module_version": "1.5.0",
          "state": {
            "_view_name": "StyleView",
            "_model_name": "DescriptionStyleModel",
            "description_width": "",
            "_view_module": "@jupyter-widgets/base",
            "_model_module_version": "1.5.0",
            "_view_count": null,
            "_view_module_version": "1.2.0",
            "_model_module": "@jupyter-widgets/controls"
          }
        },
        "4ba89ad23f6e47f6ab63002571bf8cda": {
          "model_module": "@jupyter-widgets/base",
          "model_name": "LayoutModel",
          "model_module_version": "1.2.0",
          "state": {
            "_view_name": "LayoutView",
            "grid_template_rows": null,
            "right": null,
            "justify_content": null,
            "_view_module": "@jupyter-widgets/base",
            "overflow": null,
            "_model_module_version": "1.2.0",
            "_view_count": null,
            "flex_flow": null,
            "width": null,
            "min_width": null,
            "border": null,
            "align_items": null,
            "bottom": null,
            "_model_module": "@jupyter-widgets/base",
            "top": null,
            "grid_column": null,
            "overflow_y": null,
            "overflow_x": null,
            "grid_auto_flow": null,
            "grid_area": null,
            "grid_template_columns": null,
            "flex": null,
            "_model_name": "LayoutModel",
            "justify_items": null,
            "grid_row": null,
            "max_height": null,
            "align_content": null,
            "visibility": null,
            "align_self": null,
            "height": null,
            "min_height": null,
            "padding": null,
            "grid_auto_rows": null,
            "grid_gap": null,
            "max_width": null,
            "order": null,
            "_view_module_version": "1.2.0",
            "grid_template_areas": null,
            "object_position": null,
            "object_fit": null,
            "grid_auto_columns": null,
            "margin": null,
            "display": null,
            "left": null
          }
        }
      }
    }
  },
  "cells": [
    {
      "cell_type": "markdown",
      "metadata": {
        "id": "view-in-github",
        "colab_type": "text"
      },
      "source": [
        "<a href=\"https://colab.research.google.com/github/adgregory/clibo-cloud-functions/blob/master/KuMatch/KuMatch_V1.ipynb\" target=\"_parent\"><img src=\"https://colab.research.google.com/assets/colab-badge.svg\" alt=\"Open In Colab\"/></a>"
      ]
    },
    {
      "cell_type": "markdown",
      "metadata": {
        "id": "UUdnWMnmGnfK"
      },
      "source": [
        "## Libraries"
      ]
    },
    {
      "cell_type": "code",
      "metadata": {
        "id": "mSTD_hiqhvca"
      },
      "source": [
        "import pandas as pd\n",
        "import numpy as np\n",
        "import matplotlib.pyplot as plt\n",
        "import seaborn as sns"
      ],
      "execution_count": null,
      "outputs": []
    },
    {
      "cell_type": "code",
      "metadata": {
        "colab": {
          "base_uri": "https://localhost:8080/"
        },
        "id": "TBMEppntvL16",
        "outputId": "b7124a6f-a3d6-425d-aa70-c10ccc79305c"
      },
      "source": [
        "!pip install stanza"
      ],
      "execution_count": null,
      "outputs": [
        {
          "output_type": "stream",
          "name": "stdout",
          "text": [
            "Collecting stanza\n",
            "  Downloading stanza-1.3.0-py3-none-any.whl (432 kB)\n",
            "\u001b[?25l\r\u001b[K     |▊                               | 10 kB 35.0 MB/s eta 0:00:01\r\u001b[K     |█▌                              | 20 kB 38.0 MB/s eta 0:00:01\r\u001b[K     |██▎                             | 30 kB 41.8 MB/s eta 0:00:01\r\u001b[K     |███                             | 40 kB 28.0 MB/s eta 0:00:01\r\u001b[K     |███▉                            | 51 kB 17.8 MB/s eta 0:00:01\r\u001b[K     |████▌                           | 61 kB 19.4 MB/s eta 0:00:01\r\u001b[K     |█████▎                          | 71 kB 17.0 MB/s eta 0:00:01\r\u001b[K     |██████                          | 81 kB 18.7 MB/s eta 0:00:01\r\u001b[K     |██████▉                         | 92 kB 14.7 MB/s eta 0:00:01\r\u001b[K     |███████▋                        | 102 kB 15.7 MB/s eta 0:00:01\r\u001b[K     |████████▍                       | 112 kB 15.7 MB/s eta 0:00:01\r\u001b[K     |█████████                       | 122 kB 15.7 MB/s eta 0:00:01\r\u001b[K     |█████████▉                      | 133 kB 15.7 MB/s eta 0:00:01\r\u001b[K     |██████████▋                     | 143 kB 15.7 MB/s eta 0:00:01\r\u001b[K     |███████████▍                    | 153 kB 15.7 MB/s eta 0:00:01\r\u001b[K     |████████████▏                   | 163 kB 15.7 MB/s eta 0:00:01\r\u001b[K     |█████████████                   | 174 kB 15.7 MB/s eta 0:00:01\r\u001b[K     |█████████████▋                  | 184 kB 15.7 MB/s eta 0:00:01\r\u001b[K     |██████████████▍                 | 194 kB 15.7 MB/s eta 0:00:01\r\u001b[K     |███████████████▏                | 204 kB 15.7 MB/s eta 0:00:01\r\u001b[K     |████████████████                | 215 kB 15.7 MB/s eta 0:00:01\r\u001b[K     |████████████████▊               | 225 kB 15.7 MB/s eta 0:00:01\r\u001b[K     |█████████████████▍              | 235 kB 15.7 MB/s eta 0:00:01\r\u001b[K     |██████████████████▏             | 245 kB 15.7 MB/s eta 0:00:01\r\u001b[K     |███████████████████             | 256 kB 15.7 MB/s eta 0:00:01\r\u001b[K     |███████████████████▊            | 266 kB 15.7 MB/s eta 0:00:01\r\u001b[K     |████████████████████▌           | 276 kB 15.7 MB/s eta 0:00:01\r\u001b[K     |█████████████████████▎          | 286 kB 15.7 MB/s eta 0:00:01\r\u001b[K     |██████████████████████          | 296 kB 15.7 MB/s eta 0:00:01\r\u001b[K     |██████████████████████▊         | 307 kB 15.7 MB/s eta 0:00:01\r\u001b[K     |███████████████████████▌        | 317 kB 15.7 MB/s eta 0:00:01\r\u001b[K     |████████████████████████▎       | 327 kB 15.7 MB/s eta 0:00:01\r\u001b[K     |█████████████████████████       | 337 kB 15.7 MB/s eta 0:00:01\r\u001b[K     |█████████████████████████▉      | 348 kB 15.7 MB/s eta 0:00:01\r\u001b[K     |██████████████████████████▌     | 358 kB 15.7 MB/s eta 0:00:01\r\u001b[K     |███████████████████████████▎    | 368 kB 15.7 MB/s eta 0:00:01\r\u001b[K     |████████████████████████████    | 378 kB 15.7 MB/s eta 0:00:01\r\u001b[K     |████████████████████████████▉   | 389 kB 15.7 MB/s eta 0:00:01\r\u001b[K     |█████████████████████████████▋  | 399 kB 15.7 MB/s eta 0:00:01\r\u001b[K     |██████████████████████████████▍ | 409 kB 15.7 MB/s eta 0:00:01\r\u001b[K     |███████████████████████████████ | 419 kB 15.7 MB/s eta 0:00:01\r\u001b[K     |███████████████████████████████▉| 430 kB 15.7 MB/s eta 0:00:01\r\u001b[K     |████████████████████████████████| 432 kB 15.7 MB/s \n",
            "\u001b[?25hRequirement already satisfied: protobuf in /usr/local/lib/python3.7/dist-packages (from stanza) (3.17.3)\n",
            "Collecting emoji\n",
            "  Downloading emoji-1.6.1.tar.gz (170 kB)\n",
            "\u001b[?25l\r\u001b[K     |██                              | 10 kB 9.2 MB/s eta 0:00:01\r\u001b[K     |███▉                            | 20 kB 16.0 MB/s eta 0:00:01\r\u001b[K     |█████▉                          | 30 kB 21.7 MB/s eta 0:00:01\r\u001b[K     |███████▊                        | 40 kB 26.6 MB/s eta 0:00:01\r\u001b[K     |█████████▋                      | 51 kB 30.3 MB/s eta 0:00:01\r\u001b[K     |███████████▋                    | 61 kB 33.7 MB/s eta 0:00:01\r\u001b[K     |█████████████▌                  | 71 kB 34.7 MB/s eta 0:00:01\r\u001b[K     |███████████████▍                | 81 kB 36.5 MB/s eta 0:00:01\r\u001b[K     |█████████████████▍              | 92 kB 38.5 MB/s eta 0:00:01\r\u001b[K     |███████████████████▎            | 102 kB 40.5 MB/s eta 0:00:01\r\u001b[K     |█████████████████████▏          | 112 kB 40.5 MB/s eta 0:00:01\r\u001b[K     |███████████████████████▏        | 122 kB 40.5 MB/s eta 0:00:01\r\u001b[K     |█████████████████████████       | 133 kB 40.5 MB/s eta 0:00:01\r\u001b[K     |███████████████████████████     | 143 kB 40.5 MB/s eta 0:00:01\r\u001b[K     |█████████████████████████████   | 153 kB 40.5 MB/s eta 0:00:01\r\u001b[K     |██████████████████████████████▉ | 163 kB 40.5 MB/s eta 0:00:01\r\u001b[K     |████████████████████████████████| 170 kB 40.5 MB/s \n",
            "\u001b[?25hRequirement already satisfied: six in /usr/local/lib/python3.7/dist-packages (from stanza) (1.15.0)\n",
            "Requirement already satisfied: tqdm in /usr/local/lib/python3.7/dist-packages (from stanza) (4.62.3)\n",
            "Requirement already satisfied: requests in /usr/local/lib/python3.7/dist-packages (from stanza) (2.23.0)\n",
            "Requirement already satisfied: torch>=1.3.0 in /usr/local/lib/python3.7/dist-packages (from stanza) (1.9.0+cu111)\n",
            "Requirement already satisfied: numpy in /usr/local/lib/python3.7/dist-packages (from stanza) (1.19.5)\n",
            "Requirement already satisfied: typing-extensions in /usr/local/lib/python3.7/dist-packages (from torch>=1.3.0->stanza) (3.7.4.3)\n",
            "Requirement already satisfied: chardet<4,>=3.0.2 in /usr/local/lib/python3.7/dist-packages (from requests->stanza) (3.0.4)\n",
            "Requirement already satisfied: idna<3,>=2.5 in /usr/local/lib/python3.7/dist-packages (from requests->stanza) (2.10)\n",
            "Requirement already satisfied: urllib3!=1.25.0,!=1.25.1,<1.26,>=1.21.1 in /usr/local/lib/python3.7/dist-packages (from requests->stanza) (1.24.3)\n",
            "Requirement already satisfied: certifi>=2017.4.17 in /usr/local/lib/python3.7/dist-packages (from requests->stanza) (2021.5.30)\n",
            "Building wheels for collected packages: emoji\n",
            "  Building wheel for emoji (setup.py) ... \u001b[?25l\u001b[?25hdone\n",
            "  Created wheel for emoji: filename=emoji-1.6.1-py3-none-any.whl size=169314 sha256=5afd7f26dd64576571cf1b05c2a8d50d77c0c4be4532bc7d909fb6213adc1974\n",
            "  Stored in directory: /root/.cache/pip/wheels/ea/5f/d3/03d313ddb3c2a1a427bb4690f1621eea60fe6f2a30cc95940f\n",
            "Successfully built emoji\n",
            "Installing collected packages: emoji, stanza\n",
            "Successfully installed emoji-1.6.1 stanza-1.3.0\n"
          ]
        }
      ]
    },
    {
      "cell_type": "code",
      "metadata": {
        "colab": {
          "base_uri": "https://localhost:8080/"
        },
        "id": "rgLW92CBld2n",
        "outputId": "11a85bc6-87f9-4239-d1db-52ab6e86e42f"
      },
      "source": [
        "import stanza\n",
        "import nltk\n",
        "nltk.download('stopwords')\n",
        "nltk.download('wordnet')\n",
        "nltk.download('punkt')\n",
        "nltk.download('averaged_perceptron_tagger') \n",
        "\n",
        "from nltk.stem import WordNetLemmatizer\n",
        "from nltk import FreqDist\n",
        "from nltk.collocations import BigramAssocMeasures, BigramCollocationFinder\n",
        "from nltk.corpus import stopwords"
      ],
      "execution_count": null,
      "outputs": [
        {
          "output_type": "stream",
          "name": "stdout",
          "text": [
            "[nltk_data] Downloading package stopwords to /root/nltk_data...\n",
            "[nltk_data]   Unzipping corpora/stopwords.zip.\n",
            "[nltk_data] Downloading package wordnet to /root/nltk_data...\n",
            "[nltk_data]   Unzipping corpora/wordnet.zip.\n",
            "[nltk_data] Downloading package punkt to /root/nltk_data...\n",
            "[nltk_data]   Unzipping tokenizers/punkt.zip.\n",
            "[nltk_data] Downloading package averaged_perceptron_tagger to\n",
            "[nltk_data]     /root/nltk_data...\n",
            "[nltk_data]   Unzipping taggers/averaged_perceptron_tagger.zip.\n"
          ]
        }
      ]
    },
    {
      "cell_type": "code",
      "metadata": {
        "colab": {
          "base_uri": "https://localhost:8080/",
          "height": 115,
          "referenced_widgets": [
            "2a8b4bd68dad4a6cb1b998f1df129f48",
            "7133d7931a2d4eb98dc1b033eed17690",
            "1fc6f255d6c04c5b83cc135e317ca7ac",
            "08ec6d822f24463daa5d205532a59e5f",
            "31d1f15a589c4222872a93ab16c4bf60",
            "6e85fc97c021459f9b1011dc3f0088ec",
            "9e700b4567824913ab443cd75dc15042",
            "b7ddf13b723d4819b072a963a18acc8f",
            "a4eed263b24648e0bbd31740bb06c817",
            "c991637040914bf78873a7c22e7e47d9",
            "b60a3fef70bf469d98ee962972f31def",
            "e93697e2be2946b18ac1bc2c8c1f3a96",
            "c6a48c8f327d49a48b87e7720e6310c9",
            "3cb091d26e29435a8326b8d65b6e1563",
            "359dcb23d6854c11a7ae98c1604323f9",
            "aa7a469c169b4ca5a70782e5a5339018",
            "c47ad6e3b1554e8c902ea92e2c188703",
            "c63075d7d4a3404ba3402babd5c2ee41",
            "bb13cd92ea4c4d68ba248e2d0039a1a4",
            "d0e98bcb862b401f94a4bbdc0eee8ff0",
            "58c97da5e54e4ebe9615deca0951caaf",
            "4ba89ad23f6e47f6ab63002571bf8cda"
          ]
        },
        "id": "wDTOfmtgyj0Y",
        "outputId": "3079254d-4a60-4b48-8298-e3bd4c682520"
      },
      "source": [
        "stanza.download(\"es\")"
      ],
      "execution_count": null,
      "outputs": [
        {
          "output_type": "display_data",
          "data": {
            "application/vnd.jupyter.widget-view+json": {
              "model_id": "2a8b4bd68dad4a6cb1b998f1df129f48",
              "version_minor": 0,
              "version_major": 2
            },
            "text/plain": [
              "Downloading https://raw.githubusercontent.com/stanfordnlp/stanza-resources/main/resources_1.3.0.json:   0%|   …"
            ]
          },
          "metadata": {}
        },
        {
          "output_type": "stream",
          "name": "stderr",
          "text": [
            "2021-11-03 21:54:30 INFO: Downloading default packages for language: es (Spanish)...\n"
          ]
        },
        {
          "output_type": "display_data",
          "data": {
            "application/vnd.jupyter.widget-view+json": {
              "model_id": "e93697e2be2946b18ac1bc2c8c1f3a96",
              "version_minor": 0,
              "version_major": 2
            },
            "text/plain": [
              "Downloading https://huggingface.co/stanfordnlp/stanza-es/resolve/v1.3.0/models/default.zip:   0%|          | 0…"
            ]
          },
          "metadata": {}
        },
        {
          "output_type": "stream",
          "name": "stderr",
          "text": [
            "2021-11-03 21:54:48 INFO: Finished downloading models and saved to /root/stanza_resources.\n"
          ]
        }
      ]
    },
    {
      "cell_type": "markdown",
      "metadata": {
        "id": "t2rVYjrAh0Av"
      },
      "source": [
        "## GSheet Upload"
      ]
    },
    {
      "cell_type": "code",
      "metadata": {
        "id": "F-Qb0OkFh10r"
      },
      "source": [
        "from google.colab import auth\n",
        "auth.authenticate_user()\n",
        "\n",
        "import gspread\n",
        "from oauth2client.client import GoogleCredentials\n",
        "\n",
        "gc = gspread.authorize(GoogleCredentials.get_application_default())\n",
        "\n",
        "user_likes_ws = gc.open('user_likes').sheet1\n",
        "descriptions_ws = gc.open('descriptions').sheet1\n",
        "\n",
        "# get_all_values gives a list of rows.\n",
        "user_likes_rows = user_likes_ws.get_all_values()\n",
        "descriptions_rows = descriptions_ws.get_all_values()\n",
        "\n",
        "# Convert to a DataFrame and render.\n",
        "\n",
        "user_likes_df = pd.DataFrame.from_records(user_likes_rows)\n",
        "descriptions_df = pd.DataFrame.from_records(descriptions_rows)"
      ],
      "execution_count": null,
      "outputs": []
    },
    {
      "cell_type": "markdown",
      "metadata": {
        "id": "HtvcDYfMh4JQ"
      },
      "source": [
        "## Transformations"
      ]
    },
    {
      "cell_type": "code",
      "metadata": {
        "id": "7oeTSgl1h60e"
      },
      "source": [
        "ul_header = user_likes_df.iloc[0]\n",
        "user_likes_df = user_likes_df[1:]\n",
        "user_likes_df.columns = ul_header\n",
        "\n",
        "d_header = descriptions_df.iloc[0]\n",
        "descriptions_df = descriptions_df[1:]\n",
        "descriptions_df.columns = d_header"
      ],
      "execution_count": null,
      "outputs": []
    },
    {
      "cell_type": "code",
      "metadata": {
        "colab": {
          "base_uri": "https://localhost:8080/",
          "height": 206
        },
        "id": "egp_GY9Ckc_D",
        "outputId": "97bd0333-6436-4fa8-a5b8-55842c567b6d"
      },
      "source": [
        "descriptions_df.head(5)"
      ],
      "execution_count": null,
      "outputs": [
        {
          "output_type": "execute_result",
          "data": {
            "text/html": [
              "<div>\n",
              "<style scoped>\n",
              "    .dataframe tbody tr th:only-of-type {\n",
              "        vertical-align: middle;\n",
              "    }\n",
              "\n",
              "    .dataframe tbody tr th {\n",
              "        vertical-align: top;\n",
              "    }\n",
              "\n",
              "    .dataframe thead th {\n",
              "        text-align: right;\n",
              "    }\n",
              "</style>\n",
              "<table border=\"1\" class=\"dataframe\">\n",
              "  <thead>\n",
              "    <tr style=\"text-align: right;\">\n",
              "      <th></th>\n",
              "      <th>rest_name</th>\n",
              "      <th>category</th>\n",
              "      <th>size</th>\n",
              "      <th>dish_name</th>\n",
              "      <th>price</th>\n",
              "      <th>dish_description</th>\n",
              "    </tr>\n",
              "  </thead>\n",
              "  <tbody>\n",
              "    <tr>\n",
              "      <th>1</th>\n",
              "      <td>cafe del mar</td>\n",
              "      <td>fuertes</td>\n",
              "      <td></td>\n",
              "      <td>ceviche cafe del mar</td>\n",
              "      <td></td>\n",
              "      <td>Pulpo, camaron, tilapia, agucate, cebolla, aji...</td>\n",
              "    </tr>\n",
              "    <tr>\n",
              "      <th>2</th>\n",
              "      <td>cafe del mar</td>\n",
              "      <td>fuertes</td>\n",
              "      <td></td>\n",
              "      <td>ceviche tropical</td>\n",
              "      <td></td>\n",
              "      <td>Camarones, cebolla, limon criollo, limon tahit...</td>\n",
              "    </tr>\n",
              "    <tr>\n",
              "      <th>3</th>\n",
              "      <td>cafe del mar</td>\n",
              "      <td>fuertes</td>\n",
              "      <td></td>\n",
              "      <td>ceviche azteca</td>\n",
              "      <td></td>\n",
              "      <td>Pulpo, camaron, tilapia, agucate, cebolla, aji...</td>\n",
              "    </tr>\n",
              "    <tr>\n",
              "      <th>4</th>\n",
              "      <td>cafe del mar</td>\n",
              "      <td>fuertes</td>\n",
              "      <td></td>\n",
              "      <td>ceviche tradicional</td>\n",
              "      <td></td>\n",
              "      <td>Tilapia, cebolla, ajinomoto, aguacate, limón c...</td>\n",
              "    </tr>\n",
              "    <tr>\n",
              "      <th>5</th>\n",
              "      <td>cafe del mar</td>\n",
              "      <td>fuertes</td>\n",
              "      <td></td>\n",
              "      <td>causa de camarones</td>\n",
              "      <td></td>\n",
              "      <td>Camarones, púre, aguacate, ajinomoto, cbebolla...</td>\n",
              "    </tr>\n",
              "  </tbody>\n",
              "</table>\n",
              "</div>"
            ],
            "text/plain": [
              "0     rest_name  ...                                   dish_description\n",
              "1  cafe del mar  ...  Pulpo, camaron, tilapia, agucate, cebolla, aji...\n",
              "2  cafe del mar  ...  Camarones, cebolla, limon criollo, limon tahit...\n",
              "3  cafe del mar  ...  Pulpo, camaron, tilapia, agucate, cebolla, aji...\n",
              "4  cafe del mar  ...  Tilapia, cebolla, ajinomoto, aguacate, limón c...\n",
              "5  cafe del mar  ...  Camarones, púre, aguacate, ajinomoto, cbebolla...\n",
              "\n",
              "[5 rows x 6 columns]"
            ]
          },
          "metadata": {},
          "execution_count": 8
        }
      ]
    },
    {
      "cell_type": "code",
      "metadata": {
        "colab": {
          "base_uri": "https://localhost:8080/",
          "height": 206
        },
        "id": "3tdqg-7zjnip",
        "outputId": "0b34bfef-f614-4da4-d270-055768ad09c7"
      },
      "source": [
        "user_likes_df.head()"
      ],
      "execution_count": null,
      "outputs": [
        {
          "output_type": "execute_result",
          "data": {
            "text/html": [
              "<div>\n",
              "<style scoped>\n",
              "    .dataframe tbody tr th:only-of-type {\n",
              "        vertical-align: middle;\n",
              "    }\n",
              "\n",
              "    .dataframe tbody tr th {\n",
              "        vertical-align: top;\n",
              "    }\n",
              "\n",
              "    .dataframe thead th {\n",
              "        text-align: right;\n",
              "    }\n",
              "</style>\n",
              "<table border=\"1\" class=\"dataframe\">\n",
              "  <thead>\n",
              "    <tr style=\"text-align: right;\">\n",
              "      <th></th>\n",
              "      <th>user</th>\n",
              "      <th>rest_name</th>\n",
              "      <th>category</th>\n",
              "      <th></th>\n",
              "      <th>dish_name</th>\n",
              "      <th>price</th>\n",
              "      <th>dish_description</th>\n",
              "    </tr>\n",
              "  </thead>\n",
              "  <tbody>\n",
              "    <tr>\n",
              "      <th>1</th>\n",
              "      <td>Alvin Gregory</td>\n",
              "      <td>cafe del mar</td>\n",
              "      <td></td>\n",
              "      <td></td>\n",
              "      <td>pulpo a la parrila</td>\n",
              "      <td></td>\n",
              "      <td>Pulpo, perejil, ajo, reduccion balsamica</td>\n",
              "    </tr>\n",
              "    <tr>\n",
              "      <th>2</th>\n",
              "      <td>Alvin Gregory</td>\n",
              "      <td>cafe del mar</td>\n",
              "      <td></td>\n",
              "      <td></td>\n",
              "      <td>ceviche tropical</td>\n",
              "      <td></td>\n",
              "      <td>Camarones, cebolla, limon criollo, limon tahit...</td>\n",
              "    </tr>\n",
              "    <tr>\n",
              "      <th>3</th>\n",
              "      <td>Alvin Gregory</td>\n",
              "      <td>cafe del mar</td>\n",
              "      <td></td>\n",
              "      <td></td>\n",
              "      <td>cuasa de pulpo</td>\n",
              "      <td></td>\n",
              "      <td>Pulpo, púre, aguacate, ajinomoto, cebolla, mar...</td>\n",
              "    </tr>\n",
              "    <tr>\n",
              "      <th>4</th>\n",
              "      <td>Alvin Gregory</td>\n",
              "      <td>Distrito Burger Bar</td>\n",
              "      <td>HAMBURGUESAS</td>\n",
              "      <td></td>\n",
              "      <td>Distrito</td>\n",
              "      <td>19000</td>\n",
              "      <td>Carne de Res(150g), queso holandés fundidos co...</td>\n",
              "    </tr>\n",
              "    <tr>\n",
              "      <th>5</th>\n",
              "      <td>Alvin Gregory</td>\n",
              "      <td>Distrito Burger Bar</td>\n",
              "      <td>HAMBURGUESAS</td>\n",
              "      <td></td>\n",
              "      <td>Imperial</td>\n",
              "      <td>29000</td>\n",
              "      <td>Triple Carne de Res(450g),queso cheddar,tocine...</td>\n",
              "    </tr>\n",
              "  </tbody>\n",
              "</table>\n",
              "</div>"
            ],
            "text/plain": [
              "0           user  ...                                   dish_description\n",
              "1  Alvin Gregory  ...           Pulpo, perejil, ajo, reduccion balsamica\n",
              "2  Alvin Gregory  ...  Camarones, cebolla, limon criollo, limon tahit...\n",
              "3  Alvin Gregory  ...  Pulpo, púre, aguacate, ajinomoto, cebolla, mar...\n",
              "4  Alvin Gregory  ...  Carne de Res(150g), queso holandés fundidos co...\n",
              "5  Alvin Gregory  ...  Triple Carne de Res(450g),queso cheddar,tocine...\n",
              "\n",
              "[5 rows x 7 columns]"
            ]
          },
          "metadata": {},
          "execution_count": 9
        }
      ]
    },
    {
      "cell_type": "markdown",
      "metadata": {
        "id": "4ISNTTPrlTiU"
      },
      "source": [
        "## Main Functions"
      ]
    },
    {
      "cell_type": "code",
      "metadata": {
        "id": "oB0YCqAftmE8"
      },
      "source": [
        "def get_words_freq(user_description_df, max_most_common, name):\n",
        "  total_vocab = set()\n",
        "  for bio in user_description_df['description']:\n",
        "    try:\n",
        "      total_vocab.update(bio)\n",
        "    except:\n",
        "      total_vocab.update(str(bio))\n",
        "  # Most Frequent words\n",
        "  words = []\n",
        "  for bio in user_description_df['description']:\n",
        "    try:\n",
        "      words.extend(bio)\n",
        "    except:\n",
        "      words.extend(str(bio))\n",
        "  # Frequency of words\n",
        "  bio_freq = FreqDist(words)\n",
        "  # Delete words\n",
        "  del bio_freq['casa'], bio_freq['incluye'], bio_freq['salsa'], bio_freq['acompañado'], bio_freq['gramo'] \n",
        "  # plt.style.use('ggplot')\n",
        "  # plt.figure(figsize=(15,5))\n",
        "\n",
        "  # plt.bar(*zip(*bio_freq.most_common(max_most_common)))\n",
        "  # plt.xticks(rotation=75)\n",
        "  # plt.title(name)\n",
        "  # plt.show()\n",
        "  return words, bio_freq"
      ],
      "execution_count": null,
      "outputs": []
    },
    {
      "cell_type": "code",
      "metadata": {
        "id": "qh9Qex22sWhb"
      },
      "source": [
        "def func_user_likes(name, user_likes_df, max_most_common):\n",
        "  new_descriptions = []\n",
        "  # NLP\n",
        "  stops = stopwords.words('spanish')\n",
        "  # DF Subset\n",
        "  subset_df_likes = user_likes_df.loc[user_likes_df['user'] == name]\n",
        "  for description in np.array(subset_df_likes['dish_description']):\n",
        "    lemmatizer = nlp(description)\n",
        "    lemmas = []\n",
        "    for i in range(len(lemmatizer.sentences[0].words)):\n",
        "      lemma = lemmatizer.sentences[0].words[i].lemma\n",
        "      lemma = lemma.lower()\n",
        "      xpos  = lemmatizer.sentences[0].words[i].upos\n",
        "      if xpos != \"PUNCT\" and xpos != 'ADP' and lemma not in stops and xpos != 'ADJ' and xpos !='NUM':\n",
        "        lemmas.append(lemma)\n",
        "    new_descriptions.append(lemmas)\n",
        "  user_description = pd.DataFrame(np.array(new_descriptions), columns = ['description'])\n",
        "  words, mf_words = get_words_freq(user_description, max_most_common, name)\n",
        "  mf_words = mf_words.most_common(max_most_common)\n",
        "  return mf_words"
      ],
      "execution_count": null,
      "outputs": []
    },
    {
      "cell_type": "code",
      "metadata": {
        "id": "C1R4GaA1PvdI"
      },
      "source": [
        "def get_dish_lemma(df_descriptions, restaurant, idx):\n",
        "  subset_rest_descriptions = df_descriptions.loc[df_descriptions['rest_name'] == restaurant]\n",
        "  rest_descriptions = np.array(subset_rest_descriptions['dish_description'])\n",
        "  dish_description = rest_descriptions[idx]\n",
        "  stops = stopwords.words('spanish')\n",
        "  lemmatizer = nlp(dish_description)\n",
        "  lemmas = []\n",
        "  for i in range(len(lemmatizer.sentences[0].words)):\n",
        "    lemma = lemmatizer.sentences[0].words[i].lemma\n",
        "    lemma = lemma.lower()\n",
        "    xpos  = lemmatizer.sentences[0].words[i].upos\n",
        "    if xpos != \"PUNCT\" and xpos != 'ADP' and lemma not in stops and xpos != 'ADJ' and xpos !='NUM':\n",
        "      lemmas.append(lemma)\n",
        "  return lemmas"
      ],
      "execution_count": null,
      "outputs": []
    },
    {
      "cell_type": "code",
      "metadata": {
        "id": "8mkqAe8VXRUl"
      },
      "source": [
        "def get_dish_match(restaurant, descriptions_df, user_dict, idx):\n",
        "  user_list = list(user_dict)\n",
        "  print(user_dict)\n",
        "  matches = list(set(user_dict).intersection(get_dish_lemma(descriptions_df, restaurant, idx)))\n",
        "  match_per = 0\n",
        "  for match in matches:\n",
        "    match_per += user_dict[match]\n",
        "  return match_per"
      ],
      "execution_count": null,
      "outputs": []
    },
    {
      "cell_type": "code",
      "metadata": {
        "id": "Hqimtb1AZ86Y"
      },
      "source": [
        "def get_user_matches(restaurant, descriptions_df, user_dict):\n",
        "  restaurant_dishes = descriptions_df.loc[descriptions_df['rest_name'] == restaurant]\n",
        "  restaurant_dishes = restaurant_dishes.reset_index(drop=True)\n",
        "  rest_dish_descriptions = np.array(restaurant_dishes['dish_description'])\n",
        "  match_values = []\n",
        "  for idx in range(len(rest_dish_descriptions)):\n",
        "    match_val = get_dish_match(restaurant, descriptions_df, user_dict, idx)\n",
        "    match_values.append(match_val)\n",
        "  match_values = np.array(match_values)\n",
        "  return match_values"
      ],
      "execution_count": null,
      "outputs": []
    },
    {
      "cell_type": "code",
      "metadata": {
        "id": "-mZyd4WZw9of"
      },
      "source": [
        "def replacements(sentence):\n",
        "  chrs = [',', '-', '.', '/', '(']\n",
        "  # Lower Case\n",
        "  sentence = sentence.lower()\n",
        "  # Replace Special Characters-Punctuation\n",
        "  for chr in chrs:\n",
        "    sentence = sentence.replace(chr, ' ')\n",
        "  return sentence\n",
        "\n",
        "\n",
        "def lemmatizeSentence(sentence, toExclude, toInclude):\n",
        "  # Replace Punctuation\n",
        "  description = replacements(sentence)\n",
        "  # Lemmatizer\n",
        "  nlp = stanza.Pipeline(lang='es', processors= 'tokenize, mwt, pos, lemma', verbose = False)\n",
        "  lemmitizer = nlp(description)\n",
        "  # Stopwords\n",
        "  stops = stopwords.words('spanish')\n",
        "\n",
        "  wordsLemma = lemmitizer.sentences[0].words\n",
        "  \n",
        "  if wordsLemma[0].lemma == 'car' and wordsLemma[1].lemma == 'ne':\n",
        "    class Word:\n",
        "      def __init__(self, id, lemma, upos):\n",
        "        self.id = id\n",
        "        self.lemma = lemma\n",
        "        self.upos = upos\n",
        "    insert = Word(0, \"carne\", \"NOUN\")\n",
        "    wordsLemma = wordsLemma[2:]\n",
        "    wordsLemma.insert(0, insert)\n",
        "\n",
        "  lemma = []\n",
        "  for wordLemma in wordsLemma:\n",
        "    upos = wordLemma.upos\n",
        "    word = wordLemma.lemma\n",
        "    # 1. Check word is not in stopwords\n",
        "    if word not in stops:\n",
        "      # 2. Check word part of speech (POS) and remove words.\n",
        "      if upos not in ['PUNCT', 'ADP', 'NUM', 'VERB', 'ADJ'] and word not in toExclude or word in toInclude:\n",
        "        lemma.append(word)\n",
        "  return lemma\n",
        "\n",
        "\n",
        "def lemmaDataSet(descriptions, toExclude, toInclude):\n",
        "  lemmaDescriptions = []\n",
        "  # Loop to lemmatize dish descriptions in DataSet\n",
        "  for description in tqdm(descriptions):\n",
        "    temp = lemmatizeSentence(description, toExclude, toInclude)\n",
        "    lemmaDescriptions.append(temp)\n",
        "  return lemmaDescriptions"
      ],
      "execution_count": null,
      "outputs": []
    },
    {
      "cell_type": "code",
      "metadata": {
        "id": "IXG1yDYQw0Z7"
      },
      "source": [
        "toExclude = ['grillir',\n",
        "             'casa',\n",
        "             'gramo',\n",
        "             'base',\n",
        "             'centro',\n",
        "             'toque',\n",
        "             'mix',\n",
        "             'salsa',\n",
        "             'negro']\n",
        "\n",
        "toInclude = ['enyucado',\n",
        "           'helado',\n",
        "           'criollo',\n",
        "           'parmesano',\n",
        "           'costeño',\n",
        "           'pomodoro',\n",
        "           'prosciutto',\n",
        "           'caramelizado',\n",
        "           'champiñon',\n",
        "           'artesanal',\n",
        "           'boloñés',\n",
        "           'balsámico',\n",
        "           'césar',\n",
        "           'salteado',\n",
        "           'vegetal',\n",
        "           'apanado',\n",
        "           'asado',\n",
        "           'cocido',\n",
        "           'americano',\n",
        "           'doble',\n",
        "           'freído',\n",
        "           'francés',\n",
        "           'alemán',\n",
        "           'crujiente',\n",
        "           'italiano',\n",
        "           'chantilly',\n",
        "           'aguacate',\n",
        "           'salami',\n",
        "           'picante',\n",
        "           'salado',\n",
        "           'orégano',\n",
        "           'cebollín',\n",
        "           'bolognese',\n",
        "           'mozzarella',\n",
        "           'napolitano',\n",
        "           'serrano',\n",
        "           'cremoso',\n",
        "           'ajinomoto']"
      ],
      "execution_count": null,
      "outputs": []
    },
    {
      "cell_type": "markdown",
      "metadata": {
        "id": "RX5QY-xLGt11"
      },
      "source": [
        "## Main"
      ]
    },
    {
      "cell_type": "code",
      "metadata": {
        "id": "lXlz5yNq_Doi"
      },
      "source": [
        "nlp = stanza.Pipeline(lang='es', processors='tokenize,mwt,pos,lemma', verbose = False)"
      ],
      "execution_count": null,
      "outputs": []
    },
    {
      "cell_type": "code",
      "metadata": {
        "id": "3aI3h6h5kqrj"
      },
      "source": [
        "## CALL MAIN FUNCTION HERE\n",
        "name = 'Ricardo Urrego'\n",
        "restaurant = 'La Diva Trattoria'\n",
        "\n",
        "# User most common words\n",
        "most_common_words = func_user_likes(name, user_likes_df = user_likes_df, max_most_common=20)\n",
        "\n",
        "# User matches with restaurant\n",
        "user_dict = dict(most_common_words)\n",
        "match_values = get_user_matches(restaurant, descriptions_df, user_dict)\n",
        "\n",
        "# Print order in restaurant dishes\n",
        "restaurant_dishes = descriptions_df.loc[descriptions_df['rest_name'] == restaurant]\n",
        "restaurant_dishes = restaurant_dishes.reset_index(drop=True)\n",
        "restaurant_dishes['user_likes'] = match_values\n",
        "restaurant_dishes = restaurant_dishes.sort_values(by='user_likes', ascending=False)\n",
        "user_descriptions = np.array(restaurant_dishes['dish_description'])[0:5]\n",
        "#print(user_descriptions)"
      ],
      "execution_count": null,
      "outputs": []
    },
    {
      "cell_type": "code",
      "metadata": {
        "colab": {
          "base_uri": "https://localhost:8080/",
          "height": 204
        },
        "id": "b3xiNRDlbojx",
        "outputId": "810c388a-f9a7-4114-ca03-89e23f187b0a"
      },
      "source": [
        "columns = [name+' likes']\n",
        "user_df_likes = pd.DataFrame(user_descriptions, columns=columns)\n",
        "user_df_likes"
      ],
      "execution_count": null,
      "outputs": [
        {
          "data": {
            "text/html": [
              "<div>\n",
              "<style scoped>\n",
              "    .dataframe tbody tr th:only-of-type {\n",
              "        vertical-align: middle;\n",
              "    }\n",
              "\n",
              "    .dataframe tbody tr th {\n",
              "        vertical-align: top;\n",
              "    }\n",
              "\n",
              "    .dataframe thead th {\n",
              "        text-align: right;\n",
              "    }\n",
              "</style>\n",
              "<table border=\"1\" class=\"dataframe\">\n",
              "  <thead>\n",
              "    <tr style=\"text-align: right;\">\n",
              "      <th></th>\n",
              "      <th>Ricardo Urrego likes</th>\n",
              "    </tr>\n",
              "  </thead>\n",
              "  <tbody>\n",
              "    <tr>\n",
              "      <th>0</th>\n",
              "      <td>Mozzarella de búfala y queso parmesano, salami...</td>\n",
              "    </tr>\n",
              "    <tr>\n",
              "      <th>1</th>\n",
              "      <td>Camarones, champiñon portobello, aceite de tru...</td>\n",
              "    </tr>\n",
              "    <tr>\n",
              "      <th>2</th>\n",
              "      <td>Lechuga verde rizada, rúgula, prosciutto, mozz...</td>\n",
              "    </tr>\n",
              "    <tr>\n",
              "      <th>3</th>\n",
              "      <td>Salsa pomodoro de la casa, queso mozzarella, a...</td>\n",
              "    </tr>\n",
              "    <tr>\n",
              "      <th>4</th>\n",
              "      <td>Salsa pomodoro de la casa, queso mozzarella, a...</td>\n",
              "    </tr>\n",
              "  </tbody>\n",
              "</table>\n",
              "</div>"
            ],
            "text/plain": [
              "                                Ricardo Urrego likes\n",
              "0  Mozzarella de búfala y queso parmesano, salami...\n",
              "1  Camarones, champiñon portobello, aceite de tru...\n",
              "2  Lechuga verde rizada, rúgula, prosciutto, mozz...\n",
              "3  Salsa pomodoro de la casa, queso mozzarella, a...\n",
              "4  Salsa pomodoro de la casa, queso mozzarella, a..."
            ]
          },
          "execution_count": 16,
          "metadata": {
            "tags": []
          },
          "output_type": "execute_result"
        }
      ]
    },
    {
      "cell_type": "code",
      "metadata": {
        "id": "WcX8ZaCEOBNB"
      },
      "source": [
        "file_name = name + '_' + restaurant + '.xlsx'\n",
        "restaurant_dishes.to_excel(file_name)"
      ],
      "execution_count": null,
      "outputs": []
    }
  ]
}